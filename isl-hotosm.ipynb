{
 "cells": [
  {
   "cell_type": "code",
   "execution_count": null,
   "metadata": {},
   "outputs": [],
   "source": [
    "import geopandas as gpd\n",
    "import matplotlib.pyplot as plt\n",
    "import contextily as ctx\n",
    "\n",
    "# Step 1: Load the shapefile into a GeoDataFrame\n",
    "shapefile_path = 'hotosm_pak_roads_lines_shp/hotosm_pak_roads_lines_shp.shp'\n",
    "gdf = gpd.read_file(shapefile_path)\n",
    "\n",
    "# Step 2: Plot the road lines data\n",
    "# Make sure the CRS (Coordinate Reference System) is in a format suitable for basemap overlay\n",
    "gdf = gdf.to_crs(epsg=3857)  # Convert to Web Mercator projection for basemaps\n",
    "\n",
    "# Step 3: Create a plot\n",
    "fig, ax = plt.subplots(figsize=(10, 10))\n",
    "\n",
    "# Plot the road lines\n",
    "gdf.plot(ax=ax, color='blue', linewidth=0.7)\n",
    "\n",
    "# Step 4: Add a basemap (OpenStreetMap)\n",
    "ctx.add_basemap(ax, crs=gdf.crs.to_string(), source=ctx.providers.OpenStreetMap.Mapnik)\n",
    "\n",
    "# Step 5: Adjust plot settings\n",
    "ax.set_title(\"Road Lines Overlay on OpenStreetMap (Pakistan)\", fontsize=16)\n",
    "ax.set_axis_off()  # Optional: hide axis for cleaner look\n",
    "\n",
    "# Show the plot\n",
    "plt.show()\n"
   ]
  },
  {
   "cell_type": "code",
   "execution_count": null,
   "metadata": {},
   "outputs": [],
   "source": [
    "from shapely.geometry import box\n",
    "\n",
    "islamabad_bounds = {\n",
    "    'minx': 72.8,\n",
    "    'maxx': 73.2,\n",
    "    'miny': 33.6,\n",
    "    'maxy': 33.9\n",
    "}\n",
    "bbox = box(islamabad_bounds['minx'], islamabad_bounds['miny'], islamabad_bounds['maxx'], islamabad_bounds['maxy'])\n",
    "bbox_gdf = gpd.GeoDataFrame([[1]], geometry=[bbox], crs='EPSG:4326')\n",
    "\n",
    "# Step 3: Filter road data within Islamabad bounds\n",
    "gdf = gdf.to_crs(epsg=4326)  # Convert to WGS84 for filtering\n",
    "gdf_isb = gdf[gdf.intersects(bbox)]\n",
    "\n",
    "# Step 4: Reproject to Web Mercator for contextily\n",
    "gdf_isb = gdf_isb.to_crs(epsg=3857)\n",
    "\n",
    "# Step 5: Plot\n",
    "fig, ax = plt.subplots(figsize=(10, 10))\n",
    "gdf_isb.plot(ax=ax, color='blue', linewidth=0.7)\n",
    "\n",
    "# Add basemap (only loads Islamabad area now)\n",
    "ctx.add_basemap(ax, crs=gdf_isb.crs.to_string(), source=ctx.providers.OpenStreetMap.Mapnik)\n",
    "\n",
    "# Set axis to bounding box (also in Web Mercator)\n",
    "bbox_gdf = bbox_gdf.to_crs(epsg=3857)\n",
    "ax.set_xlim(bbox_gdf.total_bounds[[0, 2]])\n",
    "ax.set_ylim(bbox_gdf.total_bounds[[1, 3]])\n",
    "\n",
    "# Final plot settings\n",
    "ax.set_title(\"Islamabad Road Lines on OpenStreetMap\", fontsize=16)\n",
    "ax.set_axis_off()\n",
    "\n",
    "plt.show()\n"
   ]
  }
 ],
 "metadata": {
  "kernelspec": {
   "display_name": "spatial_env",
   "language": "python",
   "name": "python3"
  },
  "language_info": {
   "codemirror_mode": {
    "name": "ipython",
    "version": 3
   },
   "file_extension": ".py",
   "mimetype": "text/x-python",
   "name": "python",
   "nbconvert_exporter": "python",
   "pygments_lexer": "ipython3",
   "version": "3.10.16"
  }
 },
 "nbformat": 4,
 "nbformat_minor": 2
}
